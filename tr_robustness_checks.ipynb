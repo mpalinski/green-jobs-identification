{
 "cells": [
  {
   "cell_type": "code",
   "execution_count": 2,
   "id": "abe8e833-0b5f-488e-948f-9629898a75ec",
   "metadata": {},
   "outputs": [],
   "source": [
    "import numpy as np\n",
    "import pandas as pd\n",
    "import random\n",
    "import os"
   ]
  },
  {
   "cell_type": "code",
   "execution_count": 28,
   "id": "be49578e-69da-4782-9c44-a810347a4ffa",
   "metadata": {},
   "outputs": [
    {
     "name": "stdout",
     "output_type": "stream",
     "text": [
      "Paving-sustainable-development-through-generic-green-skills-based-on-desk-research_2019_Blue-Eyes-Intelligence-Engineering-and-Sciences-Publication.pdf\n",
      "\n",
      "Interaction-between-a-Human-and-an-AGV-System-in-a-Shared-WorkspaceA-Literature-Review-Identifying-Research-Areas_2024_Multidisciplinary-Digital-Publishing-Institute-MDPI.pdf\n",
      "\n",
      "Impact-of-investment-climate-on-total-factor-productivity-of-manufacturing-firms-in-Vietnam_2018_MDPI.pdf\n",
      "\n",
      "Greening-regional-development-employment-in-lowcarbon-and-renewable-energy-activities_2017_Routledge-infotandfcouk.pdf\n",
      "\n",
      "A-qualitative-study-on-employees-experiences-of-a-support-model-for-systematic-work-environment-management_2019_MDPI-AG-Postfach-Basel-CH4005-indexingmdpicom.pdf\n",
      "\n",
      "Green-Jobs-in-the-Energy-Sector_2023_MDPI.pdf\n",
      "\n",
      "The-association-of-advanced-math-coursetaking-by-american-youth-on-subsequent-receipt-of-public-assistance_2020_Indiana-University-School-of-Social-Work.pdf\n",
      "\n",
      "Gaps-and-inconsistencies-in-the-current-knowledge-and-implementation-of-biosafety-and-biosecurity-practices-for-rickettsial-pathogens_2024_BioMed-Central-Ltd.pdf\n",
      "\n",
      "Interplay-among-institutional-actors-for-sustainable-economic-developmentRole-of-green-policies-ecoprenuership-and-green-technological-innovation_2022_Frontiers-Media-SA.pdf\n",
      "\n",
      "Role-of-government-policies-to-attain-economic-sustainability-amid-COVID19-environment_2022_Frontiers-Media-SA.pdf\n",
      "\n",
      "The-interplay-between-ethics-justice-corporate-social-responsibility-and-performance-management-sustainability_2024_Frontiers-Media-SA.pdf\n",
      "\n",
      "KEY-ECONOMIC-SECTORS-FOR-GREEN-JOB-CREATION-IN-POLAND--AN-EMPIRICAL-ANALYSIS_2023_Wydawnictwo-Ekonomia-i-Srodowisko.pdf\n",
      "\n",
      "Towards-a-greener-labour-market-Occupational-health-and-safety-implications_2016_Istituto-Superiore-di-Sanita-Viale-Regina-Elena-299-Roma-00161.pdf\n",
      "\n",
      "The-promotion-of-both-decent-and-green-jobs-through-cooperatives_2019_University-of-Deusto.pdf\n",
      "\n",
      "Electromobility-Logistics-and-Business-Ecosystem-Perspectives-Review_2023_Multidisciplinary-Digital-Publishing-Institute-MDPI.pdf\n",
      "\n",
      "Governance-of-urban-green-infrastructure-in-informal-settlements-of-windhoek-Namibia_2021_MDPI.pdf\n",
      "\n",
      "Career-ambition-as-a-way-of-understanding-the-relation-between-locus-of-control-and-selfperceived-employability-among-psychology-students_2018_Frontiers-Media-SA-infofrontiersinorg.pdf\n",
      "\n"
     ]
    }
   ],
   "source": [
    "# Directory path\n",
    "directory = \"../arts/all\"\n",
    "\n",
    "# Identified green job titles\n",
    "df=pd.read_excel(\"../green_jobs_tr_data/green_jobs_scopus_wos.xlsx\")\n",
    "\n",
    "# List of papers wher green jobs were identified\n",
    "l=df[\"file\"].unique()\n",
    "\n",
    "# Set the seed for reproducibility\n",
    "random.seed(123)\n",
    "\n",
    "# Get list of files in the directory\n",
    "files = [file for file in os.listdir(directory) if file.endswith('.pdf')]\n",
    "files = list(set(files)-set(l))\n",
    "\n",
    "# Calculate 5% of the total number of files\n",
    "num_files = len(files)\n",
    "num_samples = int(0.05 * num_files)\n",
    "\n",
    "# Randomly select 5% of files\n",
    "random_files = random.sample(files, num_samples)\n",
    "\n",
    "# Print the random file names\n",
    "for file in random_files:\n",
    "    print(file + \"\\n\")"
   ]
  }
 ],
 "metadata": {
  "kernelspec": {
   "display_name": "Python 3 (ipykernel)",
   "language": "python",
   "name": "python3"
  },
  "language_info": {
   "codemirror_mode": {
    "name": "ipython",
    "version": 3
   },
   "file_extension": ".py",
   "mimetype": "text/x-python",
   "name": "python",
   "nbconvert_exporter": "python",
   "pygments_lexer": "ipython3",
   "version": "3.12.2"
  }
 },
 "nbformat": 4,
 "nbformat_minor": 5
}
